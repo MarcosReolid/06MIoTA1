{
 "cells": [
  {
   "cell_type": "code",
   "execution_count": 8,
   "id": "67a6c8bc",
   "metadata": {},
   "outputs": [],
   "source": [
    "import psycopg2"
   ]
  },
  {
   "cell_type": "code",
   "execution_count": 9,
   "id": "b35431fa",
   "metadata": {},
   "outputs": [
    {
     "name": "stdout",
     "output_type": "stream",
     "text": [
      "<connection object at 0x000001DE5E3068A0; dsn: 'user=postgres password=xxx dbname=ACT1_MIOT06 host=localhost port=5432', closed: 0>\n"
     ]
    }
   ],
   "source": [
    "username = 'postgres'\n",
    "password = 'xxxxxxxx'\n",
    "hostname = 'localhost'\n",
    "port = '5432'\n",
    "database = 'ACT1_MIOT06'\n",
    "\n",
    "conexion = psycopg2.connect(dbname=database,\n",
    "                            user=username,\n",
    "                            password=password,\n",
    "                            host=hostname,\n",
    "                            port=port)\n",
    "print(conexion)"
   ]
  },
  {
   "cell_type": "code",
   "execution_count": 10,
   "id": "db2de936",
   "metadata": {
    "scrolled": true
   },
   "outputs": [
    {
     "data": {
      "text/plain": [
       "[(86,\n",
       "  'Carlito',\n",
       "  'Bárcena',\n",
       "  'Molins',\n",
       "  'CL. DENIA, 61, 1ª',\n",
       "  '46003',\n",
       "  '622086810',\n",
       "  '190837888405201000',\n",
       "  111111111),\n",
       " (71,\n",
       "  'Ricardo',\n",
       "  'Benito',\n",
       "  'Olivares',\n",
       "  'CL. JOSE MARIA BAYARRI, 15, 15ª',\n",
       "  '46003',\n",
       "  '603666421',\n",
       "  '190957113764071000',\n",
       "  111111111),\n",
       " (45,\n",
       "  'Rosaura',\n",
       "  'Bertrán',\n",
       "  'Torrijos',\n",
       "  'PZ. AYUNTAMIENTO DEL, 5, 19ª',\n",
       "  '46003',\n",
       "  '693078511',\n",
       "  '190371795804087000',\n",
       "  111111111),\n",
       " (23,\n",
       "  'Sabina',\n",
       "  'Cuéllar',\n",
       "  'Perera',\n",
       "  'CL. GARRIGUES LES, 4, 16ª',\n",
       "  '46003',\n",
       "  '663070534',\n",
       "  '190540513863490000',\n",
       "  111111111),\n",
       " (12,\n",
       "  'Anastasio',\n",
       "  'Manuel-Valenciano',\n",
       "  'Alegre',\n",
       "  'CL. MARTINEZ CUBELLS, 10, 907ª',\n",
       "  '46003',\n",
       "  '693038646',\n",
       "  '190879542736964000',\n",
       "  111111111),\n",
       " (94,\n",
       "  'Belen',\n",
       "  'Somoza',\n",
       "  'Somoza',\n",
       "  'CL. AYORA, 23, 21ª',\n",
       "  '46003',\n",
       "  '643981162',\n",
       "  '190254583191892000',\n",
       "  111111111),\n",
       " (35,\n",
       "  'Cebrián',\n",
       "  'Valls',\n",
       "  'Alberdi',\n",
       "  'AV. DE LOEST, S/N, ª',\n",
       "  '46003',\n",
       "  '600523413',\n",
       "  '190909849230425000',\n",
       "  111111111)]"
      ]
     },
     "execution_count": 10,
     "metadata": {},
     "output_type": "execute_result"
    }
   ],
   "source": [
    "cursor = conexion.cursor()\n",
    "cursor.execute(\"SELECT * FROM actividad1.cliente WHERE cp='46003'ORDER BY Actividad1.cliente.apellido1;\")\n",
    "cursor.fetchall()\n"
   ]
  },
  {
   "cell_type": "code",
   "execution_count": 11,
   "id": "9c18bf31",
   "metadata": {},
   "outputs": [
    {
     "data": {
      "text/plain": [
       "[('Administracion', Decimal('2600.00')),\n",
       " ('Administrativo', Decimal('7650.00')),\n",
       " ('Limpieza', Decimal('5000.00')),\n",
       " ('Monitor', Decimal('20650.00')),\n",
       " ('Técnico Mantenimiento', Decimal('4200.00'))]"
      ]
     },
     "execution_count": 11,
     "metadata": {},
     "output_type": "execute_result"
    }
   ],
   "source": [
    "cursor = conexion.cursor()\n",
    "cursor.execute(\"SELECT nom.categoria, SUM(nom.sueldo_base + nom.plus_mantenimiento +nom.plus_curso) as sueldo FROM actividad1.nomina as nom where EXTRACT(MONTH FROM nom.fecha) = 08 AND EXTRACT(YEAR FROM nom.fecha) = 2021 GROUP BY nom.categoria\")\n",
    "cursor.fetchall()\n"
   ]
  },
  {
   "cell_type": "code",
   "execution_count": 12,
   "id": "e25d2825",
   "metadata": {},
   "outputs": [
    {
     "data": {
      "text/plain": [
       "[('Flavia', 'Cisneros', 'Nutrición'),\n",
       " ('Agapito', 'Mateo', 'Nutrición'),\n",
       " ('Ruth', 'Sales', 'Nutrición'),\n",
       " ('Victoriano', 'Cabanillas-Terrón', 'Nutrición'),\n",
       " ('Ema', 'Canales', 'Nutrición')]"
      ]
     },
     "execution_count": 12,
     "metadata": {},
     "output_type": "execute_result"
    }
   ],
   "source": [
    "cursor = conexion.cursor()\n",
    "cursor.execute(\"SELECT cli.nombre, cli.apellido1, abo.nombre FROM actividad1.cliente as cli, actividad1.suscripcion as sus, actividad1.abono as abo Where cli.id= sus.cliente AND sus.abono = abo.id AND abo.nombre= 'Nutrición'\")\n",
    "cursor.fetchall()"
   ]
  },
  {
   "cell_type": "code",
   "execution_count": 13,
   "id": "6de3234f",
   "metadata": {},
   "outputs": [
    {
     "data": {
      "text/plain": [
       "[('Administracion', Decimal('2600.00')),\n",
       " ('Administrativo', Decimal('7650.00')),\n",
       " ('Limpieza', Decimal('5000.00')),\n",
       " ('Monitor', Decimal('20650.00')),\n",
       " ('Técnico Mantenimiento', Decimal('4200.00'))]"
      ]
     },
     "execution_count": 13,
     "metadata": {},
     "output_type": "execute_result"
    }
   ],
   "source": [
    "#Pagos a cada categoria en agosto\n",
    "cursor.execute(\"SELECT nom.categoria, SUM(nom.sueldo_base + nom.plus_mantenimiento +nom.plus_curso) as sueldo FROM actividad1.nomina as nom where EXTRACT(MONTH FROM nom.fecha) = 08 AND EXTRACT(YEAR FROM nom.fecha) = 2021 GROUP BY nom.categoria\")\n",
    "cursor.fetchall()"
   ]
  },
  {
   "cell_type": "code",
   "execution_count": 14,
   "id": "c631f924",
   "metadata": {},
   "outputs": [
    {
     "data": {
      "text/plain": [
       "[('Reyes', 'Aguilera', 'Administracion'),\n",
       " ('Tecla', 'Tapia', 'Administracion'),\n",
       " ('María', 'Pelayo', 'Administrativo'),\n",
       " ('Juana', 'Arteaga', 'Administrativo'),\n",
       " ('Dorita', 'Giralt', 'Administrativo'),\n",
       " ('Heriberto', 'Juliá', 'Administrativo'),\n",
       " ('Gaspar', 'Manjón', 'Administrativo'),\n",
       " ('Julio', 'César', 'Administrativo'),\n",
       " ('Jeremías', 'Araujo', 'Limpieza'),\n",
       " ('Óscar', 'Llano', 'Limpieza'),\n",
       " ('Clemente', 'Perea', 'Limpieza'),\n",
       " ('Mohamed', 'Amo', 'Limpieza'),\n",
       " ('Basilio', 'Gordillo', 'Monitor'),\n",
       " ('Clementina', 'Rico', 'Monitor'),\n",
       " ('Angélica', 'Sanjuan', 'Monitor'),\n",
       " ('Sabas', 'Santos-Llamas', 'Monitor'),\n",
       " ('Perla', 'Hierro', 'Monitor'),\n",
       " ('Yéssica', 'Carmona', 'Monitor'),\n",
       " ('Benigna', 'Velázquez', 'Monitor'),\n",
       " ('Adolfo', 'Conesa', 'Monitor'),\n",
       " ('Gabino', 'Mateo', 'Monitor'),\n",
       " ('Maricela', 'Agullo', 'Monitor'),\n",
       " ('Javiera', 'Mayo', 'Monitor'),\n",
       " ('Calixto', 'Salcedo', 'Monitor'),\n",
       " ('Bienvenida', 'Bolaños', 'Monitor'),\n",
       " ('Filomena', 'Tejero-Huertas', 'Monitor'),\n",
       " ('Régulo', 'Soria', 'Técnico Mantenimiento'),\n",
       " ('Saturnina', 'Villalba', 'Técnico Mantenimiento'),\n",
       " ('Cruz', 'Anglada', 'Técnico Mantenimiento')]"
      ]
     },
     "execution_count": 14,
     "metadata": {},
     "output_type": "execute_result"
    }
   ],
   "source": [
    "#categoria de cada empleado\n",
    "cursor.execute(\"SELECT emp.nombre, emp.apellido1, nom.categoria FROM actividad1.empleado as emp, actividad1.nomina as nom WHERE emp.id = nom.empleado GROUP BY emp.id, nom.categoria ORDER BY nom.categoria\")\n",
    "cursor.fetchall()"
   ]
  },
  {
   "cell_type": "code",
   "execution_count": 15,
   "id": "22cf45b2",
   "metadata": {},
   "outputs": [
    {
     "data": {
      "text/plain": [
       "[('Herberto', 'Zamora', 'Aqua'),\n",
       " ('Alfonso', 'Duran', 'Aqua'),\n",
       " ('Jenaro', 'Rodriguez', 'Aqua'),\n",
       " ('Ciriaco', 'Noguera', 'Aqua'),\n",
       " ('Aurelio', 'Coca', 'Aqua'),\n",
       " ('Sabina', 'Cuéllar', 'Aqua'),\n",
       " ('Maricruz', 'Gil', 'Aqua'),\n",
       " ('Flavia', 'Cisneros', 'Aqua'),\n",
       " ('Fernando', 'Rubio', 'Aqua'),\n",
       " ('Adalberto', 'Tejada', 'Aqua'),\n",
       " ('Candelario', 'Guzmán', 'Aqua'),\n",
       " ('Juan', 'Cabanillas', 'Aqua'),\n",
       " ('Sonia', 'Porras', 'Aqua'),\n",
       " ('Agapito', 'Mateo', 'Aqua'),\n",
       " ('Jennifer', 'Molina', 'Aqua'),\n",
       " ('Toribio', 'Agullo-Calderon', 'Aqua'),\n",
       " ('Amalia', 'Beltran', 'Aqua'),\n",
       " ('María', 'Fajardo', 'Aqua'),\n",
       " ('Segismundo', 'Belda', 'Aqua'),\n",
       " ('Nicodemo', 'Villalonga', 'Aqua'),\n",
       " ('Paca', 'Manso', 'Aqua'),\n",
       " ('Norberto', 'Marí', 'Aqua'),\n",
       " ('Belen', 'Somoza', 'Aqua'),\n",
       " ('Valeria', 'Busquets', 'Aqua'),\n",
       " ('Chelo', 'Quirós', 'Aqua'),\n",
       " ('Miguel', 'Roman', 'Aqua'),\n",
       " ('Anastasio', 'Manuel-Valenciano', 'Aqua'),\n",
       " ('Buenaventura', 'Leiva', 'Aqua'),\n",
       " ('Ema', 'Canales', 'Aqua'),\n",
       " ('Juan', 'Garay', 'Aqua'),\n",
       " ('Ale', 'Villanueva', 'Aqua'),\n",
       " ('Artemio', 'Lucas', 'Aqua'),\n",
       " ('Alfredo', 'Almazán', 'Aqua'),\n",
       " ('Jordán', 'Gracia', 'Aqua'),\n",
       " ('Elvira', 'Lago', 'Aqua')]"
      ]
     },
     "execution_count": 15,
     "metadata": {},
     "output_type": "execute_result"
    }
   ],
   "source": [
    "#Muestra los clientes abonados al abono Aqua\n",
    "cursor.execute(\"SELECT cli.nombre, cli.apellido1, abo.nombre FROM actividad1.cliente as cli, actividad1.suscripcion as sus, actividad1.abono as abo Where cli.id= sus.cliente AND sus.abono = abo.id AND abo.nombre= 'Aqua'\")\n",
    "cursor.fetchall()"
   ]
  },
  {
   "cell_type": "code",
   "execution_count": 16,
   "id": "43ba3189",
   "metadata": {},
   "outputs": [
    {
     "data": {
      "text/plain": [
       "[('Amada', 'Barros', 'Aikido'),\n",
       " ('Nando', 'Cortés', 'Aikido'),\n",
       " ('Mónica', 'Gracia-Raya', 'Aikido'),\n",
       " ('Josep', 'Jaume', 'Aikido'),\n",
       " ('Agapito', 'Mateo', 'Aikido'),\n",
       " ('Manu', 'Real-Sevilla', 'Aikido'),\n",
       " ('Fernando', 'Rubio', 'Aikido')]"
      ]
     },
     "execution_count": 16,
     "metadata": {},
     "output_type": "execute_result"
    }
   ],
   "source": [
    "#Clientes en el curso de Aikido\n",
    "cursor.execute(\"SELECT cli.nombre, cli.apellido1, curs.nombre FROM actividad1.cliente as cli, actividad1.curso as curs, actividad1.suscripcion as sus where cli.id=sus.cliente AND sus.curso = curs.id AND curs.nombre = 'Aikido' ORDER BY cli.apellido1\")\n",
    "cursor.fetchall()"
   ]
  },
  {
   "cell_type": "code",
   "execution_count": 17,
   "id": "f8a49efc",
   "metadata": {},
   "outputs": [
    {
     "data": {
      "text/plain": [
       "[('Toribio', 'Agullo-Calderon', 'Basilio', 'Gordillo'),\n",
       " ('Raúl', 'Alfonso', 'Basilio', 'Gordillo'),\n",
       " ('Fidel', 'Baró', 'Basilio', 'Gordillo'),\n",
       " ('Amada', 'Barros', 'Basilio', 'Gordillo'),\n",
       " ('Ricardo', 'Benito', 'Basilio', 'Gordillo'),\n",
       " ('Victoriano', 'Cabanillas-Terrón', 'Basilio', 'Gordillo'),\n",
       " ('Ema', 'Canales', 'Basilio', 'Gordillo'),\n",
       " ('Amaya', 'Cañizares', 'Basilio', 'Gordillo'),\n",
       " ('Alex', 'Chamorro', 'Basilio', 'Gordillo'),\n",
       " ('Flavia', 'Cisneros', 'Basilio', 'Gordillo'),\n",
       " ('Luciano', 'Conesa', 'Basilio', 'Gordillo'),\n",
       " ('María', 'Diéguez', 'Basilio', 'Gordillo'),\n",
       " ('María', 'Fajardo', 'Basilio', 'Gordillo'),\n",
       " ('Febe', 'Ferrán-Gimeno', 'Basilio', 'Gordillo'),\n",
       " ('Jose', 'Francisco', 'Basilio', 'Gordillo'),\n",
       " ('Aroa', 'Gisbert', 'Basilio', 'Gordillo'),\n",
       " ('Elvira', 'Lago', 'Basilio', 'Gordillo'),\n",
       " ('Blanca', 'Leal', 'Basilio', 'Gordillo'),\n",
       " ('Ainara', 'Martin', 'Basilio', 'Gordillo'),\n",
       " ('Chita', 'Mena', 'Basilio', 'Gordillo'),\n",
       " ('Adrián', 'Nevado', 'Basilio', 'Gordillo'),\n",
       " ('Francisco', 'Oliva', 'Basilio', 'Gordillo'),\n",
       " ('Loreto', 'Pintor', 'Basilio', 'Gordillo'),\n",
       " ('Sonia', 'Porras', 'Basilio', 'Gordillo'),\n",
       " ('Alcides', 'Prieto', 'Basilio', 'Gordillo'),\n",
       " ('Jenaro', 'Rodriguez', 'Basilio', 'Gordillo'),\n",
       " ('Herberto', 'Sandoval', 'Basilio', 'Gordillo'),\n",
       " ('Belen', 'Somoza', 'Basilio', 'Gordillo')]"
      ]
     },
     "execution_count": 17,
     "metadata": {},
     "output_type": "execute_result"
    }
   ],
   "source": [
    "#Clientes de un monitor\n",
    "cursor.execute(\"SELECT cli.nombre, cli.apellido1, emp.nombre, emp.apellido1 FROM actividad1.cliente as cli, actividad1.empleado as emp, actividad1.curso as curs, actividad1.suscripcion as sus, actividad1.imparte as imp where cli.id=sus.cliente AND sus.curso = curs.id AND curs.id = imp.codigo_curso AND imp.codigo_empleado = emp.id AND emp.id = 3 GROUP by  cli.id, emp.id ORDER BY cli.apellido1\")\n",
    "cursor.fetchall()"
   ]
  },
  {
   "cell_type": "code",
   "execution_count": 18,
   "id": "f4eebd34",
   "metadata": {},
   "outputs": [
    {
     "data": {
      "text/plain": [
       "[(86,\n",
       "  'Carlito',\n",
       "  'Bárcena',\n",
       "  'Molins',\n",
       "  'CL. DENIA, 61, 1ª',\n",
       "  '46003',\n",
       "  '622086810',\n",
       "  '190837888405201000',\n",
       "  111111111),\n",
       " (71,\n",
       "  'Ricardo',\n",
       "  'Benito',\n",
       "  'Olivares',\n",
       "  'CL. JOSE MARIA BAYARRI, 15, 15ª',\n",
       "  '46003',\n",
       "  '603666421',\n",
       "  '190957113764071000',\n",
       "  111111111),\n",
       " (45,\n",
       "  'Rosaura',\n",
       "  'Bertrán',\n",
       "  'Torrijos',\n",
       "  'PZ. AYUNTAMIENTO DEL, 5, 19ª',\n",
       "  '46003',\n",
       "  '693078511',\n",
       "  '190371795804087000',\n",
       "  111111111),\n",
       " (23,\n",
       "  'Sabina',\n",
       "  'Cuéllar',\n",
       "  'Perera',\n",
       "  'CL. GARRIGUES LES, 4, 16ª',\n",
       "  '46003',\n",
       "  '663070534',\n",
       "  '190540513863490000',\n",
       "  111111111),\n",
       " (12,\n",
       "  'Anastasio',\n",
       "  'Manuel-Valenciano',\n",
       "  'Alegre',\n",
       "  'CL. MARTINEZ CUBELLS, 10, 907ª',\n",
       "  '46003',\n",
       "  '693038646',\n",
       "  '190879542736964000',\n",
       "  111111111),\n",
       " (94,\n",
       "  'Belen',\n",
       "  'Somoza',\n",
       "  'Somoza',\n",
       "  'CL. AYORA, 23, 21ª',\n",
       "  '46003',\n",
       "  '643981162',\n",
       "  '190254583191892000',\n",
       "  111111111),\n",
       " (35,\n",
       "  'Cebrián',\n",
       "  'Valls',\n",
       "  'Alberdi',\n",
       "  'AV. DE LOEST, S/N, ª',\n",
       "  '46003',\n",
       "  '600523413',\n",
       "  '190909849230425000',\n",
       "  111111111)]"
      ]
     },
     "execution_count": 18,
     "metadata": {},
     "output_type": "execute_result"
    }
   ],
   "source": [
    "#Clientes con codigo postal 46003\n",
    "cursor.execute(\"SELECT * FROM Actividad1.cliente WHERE cp='46003' ORDER BY Actividad1.cliente.apellido1\")\n",
    "cursor.fetchall()"
   ]
  },
  {
   "cell_type": "code",
   "execution_count": 19,
   "id": "69696c62",
   "metadata": {},
   "outputs": [
    {
     "data": {
      "text/plain": [
       "[('Abdominal', 'Sala Maquinas'),\n",
       " ('Bici estatica', 'Sala de Cardio'),\n",
       " ('Cinta de correr', 'Sala de Cardio'),\n",
       " ('Curl biceps', 'Sala Maquinas'),\n",
       " ('Hip abductores', 'Sala Maquinas'),\n",
       " ('Mancue 2-20kg', 'Sala Musculación'),\n",
       " ('Mancue 20-40kg', 'Sala Musculación'),\n",
       " ('Mancuenrnas 2kg', 'Sala Musculación'),\n",
       " ('Multi-Press', 'Sala Maquinas'),\n",
       " ('Polea alta', 'Sala Maquinas'),\n",
       " ('poleas y cables', 'Sala Maquinas'),\n",
       " ('Prensa 45º', 'Sala Musculación'),\n",
       " ('Pull down', 'Sala Musculación'),\n",
       " ('remo', 'Sala Maquinas')]"
      ]
     },
     "execution_count": 19,
     "metadata": {},
     "output_type": "execute_result"
    }
   ],
   "source": [
    "#Clientes de un monitor\n",
    "cursor.execute(\"SELECT maq.tipo, zon.nombre as zona FROM actividad1.MAQUINAS as maq INNER JOIN actividad1.ZONA as zon ON maq.zona=zon.id GROUP BY zon.nombre, maq.tipo ORDER BY maq.tipo\")\n",
    "cursor.fetchall()"
   ]
  },
  {
   "cell_type": "code",
   "execution_count": 20,
   "id": "52144e76",
   "metadata": {},
   "outputs": [
    {
     "data": {
      "text/plain": [
       "[('Flavia', 'Cisneros', 'Nutrición'),\n",
       " ('Agapito', 'Mateo', 'Nutrición'),\n",
       " ('Ruth', 'Sales', 'Nutrición'),\n",
       " ('Victoriano', 'Cabanillas-Terrón', 'Nutrición'),\n",
       " ('Ema', 'Canales', 'Nutrición')]"
      ]
     },
     "execution_count": 20,
     "metadata": {},
     "output_type": "execute_result"
    }
   ],
   "source": [
    "#Clientes con el abono Nutrición\n",
    "cursor.execute(\"SELECT cli.nombre, cli.apellido1, abo.nombre FROM actividad1.cliente as cli, actividad1.suscripcion as sus, actividad1.abono as abo Where cli.id= sus.cliente AND sus.abono = abo.id AND abo.nombre= 'Nutrición'\")\n",
    "cursor.fetchall()"
   ]
  },
  {
   "cell_type": "code",
   "execution_count": 21,
   "id": "cc6e8679",
   "metadata": {},
   "outputs": [
    {
     "data": {
      "text/plain": [
       "[(5,)]"
      ]
     },
     "execution_count": 21,
     "metadata": {},
     "output_type": "execute_result"
    }
   ],
   "source": [
    "cursor.execute(\"SELECT COUNT(cli.nombre) FROM actividad1.cliente as cli, actividad1.suscripcion as sus, actividad1.abono as abo Where cli.id= sus.cliente AND sus.abono = abo.id AND abo.nombre= 'Nutrición'\")\n",
    "cursor.fetchall()"
   ]
  },
  {
   "cell_type": "code",
   "execution_count": 22,
   "id": "229159a0",
   "metadata": {},
   "outputs": [],
   "source": [
    "# Cerrar el cursor\n",
    "cursor.close()"
   ]
  },
  {
   "cell_type": "code",
   "execution_count": 23,
   "id": "2e55e66c",
   "metadata": {},
   "outputs": [],
   "source": [
    "# Cerrar la conexión\n",
    "conexion.close()"
   ]
  },
  {
   "cell_type": "code",
   "execution_count": null,
   "id": "0e4c838f",
   "metadata": {},
   "outputs": [],
   "source": []
  },
  {
   "cell_type": "code",
   "execution_count": null,
   "id": "fa44e5a6",
   "metadata": {},
   "outputs": [],
   "source": []
  }
 ],
 "metadata": {
  "kernelspec": {
   "display_name": "Python 3 (ipykernel)",
   "language": "python",
   "name": "python3"
  },
  "language_info": {
   "codemirror_mode": {
    "name": "ipython",
    "version": 3
   },
   "file_extension": ".py",
   "mimetype": "text/x-python",
   "name": "python",
   "nbconvert_exporter": "python",
   "pygments_lexer": "ipython3",
   "version": "3.10.0"
  }
 },
 "nbformat": 4,
 "nbformat_minor": 5
}
