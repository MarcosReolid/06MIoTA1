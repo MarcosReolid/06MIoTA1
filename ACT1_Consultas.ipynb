{
 "cells": [
  {
   "cell_type": "code",
   "execution_count": 1,
   "id": "67a6c8bc",
   "metadata": {},
   "outputs": [],
   "source": [
    "import psycopg2"
   ]
  },
  {
   "cell_type": "code",
   "execution_count": 2,
   "id": "b35431fa",
   "metadata": {},
   "outputs": [
    {
     "name": "stdout",
     "output_type": "stream",
     "text": [
      "<connection object at 0x000001B3BBDC5360; dsn: 'user=eloodklp password=xxx dbname=eloodklp host=tyke.db.elephantsql.com port=5432', closed: 0>\n"
     ]
    }
   ],
   "source": [
    "username = 'eloodklp'\n",
    "password = 'K356UfFrf0EeAxm08nF5NP-6CjiGxw-8'\n",
    "hostname = 'tyke.db.elephantsql.com'\n",
    "port = '5432'\n",
    "database = 'eloodklp'\n",
    "\n",
    "conexion = psycopg2.connect(dbname=database,\n",
    "                            user=username,\n",
    "                            password=password,\n",
    "                            host=hostname,\n",
    "                            port=port)\n",
    "print(conexion)"
   ]
  },
  {
   "cell_type": "code",
   "execution_count": 3,
   "id": "db2de936",
   "metadata": {
    "scrolled": true
   },
   "outputs": [
    {
     "data": {
      "text/plain": [
       "[(86,\n",
       "  'Carlito',\n",
       "  'Bárcena',\n",
       "  'Molins',\n",
       "  'CL. DENIA, 61, 1ª',\n",
       "  '46003',\n",
       "  '622086810',\n",
       "  '190837888405201000',\n",
       "  111111111),\n",
       " (71,\n",
       "  'Ricardo',\n",
       "  'Benito',\n",
       "  'Olivares',\n",
       "  'CL. JOSE MARIA BAYARRI, 15, 15ª',\n",
       "  '46003',\n",
       "  '603666421',\n",
       "  '190957113764071000',\n",
       "  111111111),\n",
       " (45,\n",
       "  'Rosaura',\n",
       "  'Bertrán',\n",
       "  'Torrijos',\n",
       "  'PZ. AYUNTAMIENTO DEL, 5, 19ª',\n",
       "  '46003',\n",
       "  '693078511',\n",
       "  '190371795804087000',\n",
       "  111111111),\n",
       " (23,\n",
       "  'Sabina',\n",
       "  'Cuéllar',\n",
       "  'Perera',\n",
       "  'CL. GARRIGUES LES, 4, 16ª',\n",
       "  '46003',\n",
       "  '663070534',\n",
       "  '190540513863490000',\n",
       "  111111111),\n",
       " (12,\n",
       "  'Anastasio',\n",
       "  'Manuel-Valenciano',\n",
       "  'Alegre',\n",
       "  'CL. MARTINEZ CUBELLS, 10, 907ª',\n",
       "  '46003',\n",
       "  '693038646',\n",
       "  '190879542736964000',\n",
       "  111111111),\n",
       " (94,\n",
       "  'Belen',\n",
       "  'Somoza',\n",
       "  'Somoza',\n",
       "  'CL. AYORA, 23, 21ª',\n",
       "  '46003',\n",
       "  '643981162',\n",
       "  '190254583191892000',\n",
       "  111111111),\n",
       " (35,\n",
       "  'Cebrián',\n",
       "  'Valls',\n",
       "  'Alberdi',\n",
       "  'AV. DE LOEST, S/N, ª',\n",
       "  '46003',\n",
       "  '600523413',\n",
       "  '190909849230425000',\n",
       "  111111111)]"
      ]
     },
     "execution_count": 3,
     "metadata": {},
     "output_type": "execute_result"
    }
   ],
   "source": [
    "cursor = conexion.cursor()\n",
    "cursor.execute(\"SELECT * FROM actividad1.cliente WHERE cp='46003'ORDER BY Actividad1.cliente.apellido1;\")\n",
    "cursor.fetchall()\n"
   ]
  },
  {
   "cell_type": "code",
   "execution_count": 9,
   "id": "9c18bf31",
   "metadata": {},
   "outputs": [
    {
     "data": {
      "text/plain": [
       "[('Administracion', Decimal('2600.00')),\n",
       " ('Administrativo', Decimal('7650.00')),\n",
       " ('Limpieza', Decimal('5000.00')),\n",
       " ('Monitor', Decimal('20650.00')),\n",
       " ('Técnico Mantenimiento', Decimal('4200.00'))]"
      ]
     },
     "execution_count": 9,
     "metadata": {},
     "output_type": "execute_result"
    }
   ],
   "source": [
    "cursor = conexion.cursor()\n",
    "cursor.execute(\"SELECT nom.categoria, SUM(nom.sueldo_base + nom.plus_mantenimiento +nom.plus_curso) as sueldo FROM actividad1.nomina as nom where EXTRACT(MONTH FROM nom.fecha) = 08 AND EXTRACT(YEAR FROM nom.fecha) = 2021 GROUP BY nom.categoria\")\n",
    "cursor.fetchall()\n"
   ]
  },
  {
   "cell_type": "code",
   "execution_count": 3,
   "id": "e25d2825",
   "metadata": {},
   "outputs": [
    {
     "data": {
      "text/plain": [
       "[('Flavia', 'Cisneros', 'Nutrición'),\n",
       " ('Agapito', 'Mateo', 'Nutrición'),\n",
       " ('Ruth', 'Sales', 'Nutrición'),\n",
       " ('Victoriano', 'Cabanillas-Terrón', 'Nutrición'),\n",
       " ('Ema', 'Canales', 'Nutrición')]"
      ]
     },
     "execution_count": 3,
     "metadata": {},
     "output_type": "execute_result"
    }
   ],
   "source": [
    "cursor = conexion.cursor()\n",
    "cursor.execute(\"SELECT cli.nombre, cli.apellido1, abo.nombre FROM actividad1.cliente as cli, actividad1.suscripcion as sus, actividad1.abono as abo Where cli.id= sus.cliente AND sus.abono = abo.id AND abo.nombre= 'Nutrición'\")\n",
    "cursor.fetchall()"
   ]
  },
  {
   "cell_type": "code",
   "execution_count": null,
   "id": "229159a0",
   "metadata": {},
   "outputs": [],
   "source": [
    "# Cerrar el cursor\n",
    "cursor.close()"
   ]
  },
  {
   "cell_type": "code",
   "execution_count": 5,
   "id": "2e55e66c",
   "metadata": {},
   "outputs": [],
   "source": [
    "# Cerrar la conexión\n",
    "conexion.close()"
   ]
  },
  {
   "cell_type": "code",
   "execution_count": null,
   "id": "0e4c838f",
   "metadata": {},
   "outputs": [],
   "source": []
  }
 ],
 "metadata": {
  "kernelspec": {
   "display_name": "Python 3 (ipykernel)",
   "language": "python",
   "name": "python3"
  },
  "language_info": {
   "codemirror_mode": {
    "name": "ipython",
    "version": 3
   },
   "file_extension": ".py",
   "mimetype": "text/x-python",
   "name": "python",
   "nbconvert_exporter": "python",
   "pygments_lexer": "ipython3",
   "version": "3.10.0"
  }
 },
 "nbformat": 4,
 "nbformat_minor": 5
}
